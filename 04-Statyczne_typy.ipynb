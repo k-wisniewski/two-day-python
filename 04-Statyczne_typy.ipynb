{
 "cells": [
  {
   "cell_type": "markdown",
   "id": "a0dbe935-59e0-4a1e-a005-bb649649d6af",
   "metadata": {},
   "source": [
    "# Statyczne typy\n",
    "Typowanie jest w rzeczywistości nakładaniem ograniczeń na zbiory wartości zmiennych w programach, co ułatwia wnioskowanie o nich, w szczególności w sposób automatyczny. Istnieją różne podejścia do tego problemu i różne sposoby jego kategoryzacji - jednym z nich jest to kiedy typowanie się odbywa. Ze względu na tą cechę, języki mogą być statycznie lub dynamicznie typowane.\n",
    "\n",
    "Statyczne typy są sprawdzane przed wykonaniem, co ułatwia konstruowanie narzędzi weryfikujących poprawność programów przed ich rzeczywistym wykonaniem. Historycznie patrząc, języki statycznie typowane były nieco trudniejsze do pisania dla programistów - np.: zmienne nie mogły zmieniać swojego typu w trakcie wykonania, ale narzędzia diagnozujące problemy przed wykonaniem były nieco bardziej zaawansowane, podobnie jak optymalizacje, których mógł dokonać kompilator, w rezultacie produkując szybszy kod.\n",
    "\n",
    "Amerykańska korporacja AirBnB przeprowadziła analizę postmortem, z której wynikało, że 38% bugów mogłoby być unikniętych, jeśli postawiono by na język typowany statycznie (w ich przypadku porównanie dotyczyło JavaScript vs TypeScript).\n",
    "\n",
    "W Pythonie oryginalnie postawiono na typowanie dynamiczne - interpreter kalkuluje i sprawdza typy w czasie wykonania, a zmienne mogą swobodnie zmieniać swoje typy w trakcie działania programu. Kod, który nigdy nie będzie wykonany, nie jest typowany:"
   ]
  },
  {
   "cell_type": "code",
   "execution_count": null,
   "id": "2f79a7c1-1596-4d15-b906-42dafd7a6134",
   "metadata": {},
   "outputs": [],
   "source": [
    "if False:\n",
    "    1 + \"Hello\"\n",
    "print(\"world\")"
   ]
  },
  {
   "cell_type": "code",
   "execution_count": null,
   "id": "14b06e2c-aaa9-41e2-9355-997a39686bea",
   "metadata": {},
   "outputs": [],
   "source": [
    "1 + \"Hello\""
   ]
  },
  {
   "cell_type": "code",
   "execution_count": null,
   "id": "e551340b-31ab-4956-b17a-870fb65fdfb8",
   "metadata": {},
   "outputs": [],
   "source": [
    "2 * \"Hello\""
   ]
  },
  {
   "cell_type": "code",
   "execution_count": null,
   "id": "328c8981-0a93-4462-a132-8696b0544a08",
   "metadata": {},
   "outputs": [],
   "source": [
    "test = \"test\"\n",
    "print(type(test))\n",
    "test = 5\n",
    "print(type(test))"
   ]
  },
  {
   "cell_type": "markdown",
   "id": "77a9b50c-eca2-4ee1-b078-5a9103e061ad",
   "metadata": {},
   "source": [
    "Wraz z rozwojem języka, Python stał się językiem o opcjonalnym typowaniu statycznym (*ang: gradually typed* - przy użyciu anotacji typów) i pojawiły się narzędzia wymuszające statyczne typowanie - np.: `mypy`. Mimo to, zdecydowana większość kodu Pythonowego nadal jest dynamicznie typowana, a język nie wymusza stosowania anotacji typowych, choć należy podkreślić benefity ich stosowania, jak np.: wykrywanie wielu bugów przy użyciu narzędzi statycznej analizy kodu.\n",
    "\n",
    "### Deklarowanie typów\n",
    "\n",
    "#### Funkcje\n",
    "```\n",
    "def func(arg: arg_type, optarg: arg_type = default) -> return_type:\n",
    "    ...\n",
    "    \n",
    "def func2(x: str) -> Optional[str]:\n",
    "    if x != \"\":\n",
    "        return \"cokolwiek\" + x\n",
    "    else:\n",
    "        return None\n",
    "```\n",
    "\n",
    "#### Zmienne\n",
    "```\n",
    "cośtam: str\n",
    "jakaś_liczba: int\n",
    "cards: list[Card]\n",
    "results: dict[tuple[int, int, int], str]\n",
    "\n",
    "from typing import Union\n",
    "lst: list[Union[int, str, bool, Card]]\n",
    "```\n",
    "\n",
    "### Mypy\n",
    "Aby użyć `mypy` wystarczy, że najpierw zainstalujemy go przez `pip`:\n",
    "```\n",
    "pip install mypy\n",
    "```\n",
    "\n",
    "... a potem odpalimy przy użyciu:\n",
    "```\n",
    "mypy --check-untyped-defs my_script.py\n",
    "```\n",
    "Flaga `--check-untyped-defs` włącza sprawdzanie typów w ciele nieotypowanych funkcji - domyślnie sprawdzany jest tylko scope globalny. Można również wymusić sprawdzanie czy wszystkie funkcje są otypowane - przy użyciu `--disallow-untyped-defs`.\n",
    "\n",
    "Przykładowo dla takiego wejścia:\n",
    "\n",
    "```\n",
    "def multiply_by_2(number: float) -> float:\n",
    "    return 2 * number\n",
    "\n",
    "\n",
    "multiply_by_2(\"I'm not a float\")\n",
    "```\n",
    "\n",
    "dostaniemy:\n",
    "```\n",
    ">>> mypy float_check.py\n",
    "float_check.py:5: error: Argument 1 to \"multiply_by_2\" has incompatible\n",
    "                        type \"str\"; expected \"float\"\n",
    "Found 1 error in 1 file (checked 1 source file)\n",
    "```\n",
    "Przydatne do debugowania błędów znalezionych przez `mypy` bywa użycie dwóch funkcji: `reveal_type` oraz `reveal_locals`. Początkowo były zdefiniowane przez `mypy`, jednak od wersji 3.11 `reveal_type` jest dostępne do zaimportowania z modułu typing biblioteki standardowej. `reveal_locals` musi zostać usunięte po wykonaniu `mypy`, inaczej będzie skutkować błędem.\n",
    "\n",
    "```\n",
    "from typing import reveal_type, reveal_locals\n",
    "import math\n",
    "reveal_type(math.e)\n",
    "\n",
    "radius = 1\n",
    "area = math.pi * radius * radius\n",
    "reveal_locals()\n",
    "```\n",
    "\n",
    "```\n",
    ">>> mypy reveal.py\n",
    "reveal.py:4: error: Revealed type is 'builtins.float'\n",
    "\n",
    "reveal.py:8: error: Revealed local types are:\n",
    "reveal.py:8: error: area: builtins.float\n",
    "reveal.py:8: error: radius: builtins.int\n",
    "```\n",
    "Oczywiście, `mypy` ma dużo innych opcji i konfiguracji - ich opis można znaleźć [tu](https://mypy.readthedocs.io/en/stable/).\n",
    "\n",
    "\n",
    "### Konfiguracja mypy\n",
    "Mypy możemy konfigurować albo podając opcje w linii komend, albo z użyciem plików. Następujące pliki są sprawdzane:\n",
    "```\n",
    "./mypy.ini\n",
    "./.mypy.ini\n",
    "./pyproject.toml\n",
    "./setup.cfg\n",
    "$XDG_CONFIG_HOME/mypy/config\n",
    "~/.config/mypy/config\n",
    "~/.mypy.ini\n",
    "```\n",
    "Plik konfiguracyjny ma standardową składnię plików `ini` i wygląda przykładowo tak:\n",
    "```\n",
    "\n",
    "[mypy]\n",
    "warn_return_any = True\n",
    "warn_unused_configs = True\n",
    "\n",
    "# Per-module options:\n",
    "\n",
    "[mypy-mycode.foo.*]\n",
    "disallow_untyped_defs = True\n",
    "\n",
    "[mypy-mycode.bar]\n",
    "warn_return_any = False\n",
    "\n",
    "[mypy-somelibrary]\n",
    "ignore_missing_imports = True\n",
    "```\n",
    "Dokładna dokumentacja mypy znajduje się pod [tym linkiem](https://mypy.readthedocs.io/en/stable/)\n",
    "\n",
    "### *Zadanie*\n",
    "W katalogu `examples` znajduje się skrypt `image_blur.py`. Użyj `mypy --strict` by znaleźć w programie błędy i popraw je aż mypy przestanie zgłaszać jakiekolwiek zastrzeżenia. Pobierz z internetu dowolny obrazek, uruchom program podając go za parametr skryptu i przetestuj, czy działa po Twoich poprawkach.\n",
    "\n",
    "### Kiedy w ogóle przejmować się typami\n",
    "\n",
    "1. Kiedy ma się małe doświadczenie z Pythonem, to zdecydowanie **nie jest konieczne** - może pomóc, ale są istotniejsze mechanizmy języka\n",
    "2. W drobnych, podręcznych skryptach, które nie będą obiektem zainteresowań reszty zespołu w firmie - **raczej nie warto**. W niczym nie przeszkadzają, IDE/edytor może lepiej podpowiadać, ale nie ma to wielkiego znaczenia\n",
    "3. **Zdecydowanie warto** w bibliotekach używanych przez innych, zwłaszcza w tych, którymi dzielicie się przez PyPI (lub lokalną jego instalację). Wówczas użytkownicy mogą zdecydowanie łatwiej poznawać waszą bibliotekę z pomocę ich IDE, bez konieczności zgadywania waszych intencji i supresowania błędów typów podkreślanych przez ich edytor\n",
    "4. **Zdecydowanie warto** w jakkolwiek większych projektach, gdzie jeden lub więcej zespołów kolaborują nad kodem przez dłuższy okres czasu - wówczas dużo łatwiej zrozumieć założenia architektoniczne oryginalnych autorów, używać innych modułów i znajdować subtelne bugi.\n",
    "\n",
    "\n",
    "Gdy chcemy się zajmować typami w Pythonie i używać ich to ulepszania struktury naszej aplikacji, istnieje kilka mechanizmów, które pozwalają nam w elastyczny sposób z nimi pracować, nieco podobnie do języków statycznie typowanych: `dataclasses`, `ABC` i `Protocols`."
   ]
  },
  {
   "cell_type": "markdown",
   "id": "9babdc69-e26d-40c9-ae59-1c94939264df",
   "metadata": {},
   "source": [
    "## ABC\n",
    "Abstrakcyjne klasy bazowe to klasy, które istnieją po to by być rozszerzanymi przez dziedziczenie. Definiują one abstrakcyjny interfejs, który służy za swojego rodzaju kontrakt na którym może polegać reszta kodu. Abstrakcyjne klasy bazowe nie mają w założeniu ich twórców kiedykolwiek służyć do tworzenia obiektów - część ich metod może nie być zaimplementowana! Teoretycznie nic nie stoi na przeszkodzie bo owe klasy tworzyć tak:"
   ]
  },
  {
   "cell_type": "code",
   "execution_count": null,
   "id": "fb8af269-326d-40e3-832d-f2f4ab2fdf96",
   "metadata": {},
   "outputs": [],
   "source": [
    "# abstrakcyjna klasa bazowa\n",
    "class UserRepository:\n",
    "    def fetch(id):\n",
    "        raise NotImplementedError\n",
    "    \n",
    "    def store(user):\n",
    "        raise NotImplementedError\n",
    "\n",
    "# rzeczywista implementacja\n",
    "class SQLiteUserRepository(UserRepository):\n",
    "    def __init__(self, path):\n",
    "        with open(path) as db:\n",
    "            self.db = connect(db)\n",
    "            ... # tu jakieś otwarcie bazy\n",
    "        \n",
    "    def fetch(id):\n",
    "        row = self.db.execute(f\"SELECT * FROM auth_user WHERE id = {sanitize(id)}\")\n",
    "        ... # tu jakaś dalsza część logiki\n",
    "    \n",
    "    def store(user):\n",
    "        self.db.execute(f\"INSERT INTO ...\")\n",
    "\n",
    "def func1(user: User, repository: UserRepository):\n",
    "    # modyfikacje na user\n",
    "    repository.store(user)"
   ]
  },
  {
   "cell_type": "markdown",
   "id": "c9b4dc0e-71b7-4830-af6d-27e8ef7897fd",
   "metadata": {},
   "source": [
    "... jednak nie mamy żadnej gwarancji, że ktoś nie spróbuję stworzyć egzemplarza naszej abstrakcyjnej klasy bazowej. Z pomocą przychodzi moduł `abc` biblioteki standardowej:"
   ]
  },
  {
   "cell_type": "code",
   "execution_count": 4,
   "id": "a8e52466-f55a-496c-a55b-250ee2ee3e80",
   "metadata": {},
   "outputs": [],
   "source": [
    "from abc import ABC, abstractmethod\n",
    "\n",
    "class UserRepository(ABC):\n",
    "    @abstractmethod\n",
    "    def fetch(id):\n",
    "        ...\n",
    "    \n",
    "    @abstractmethod\n",
    "    def store(user):\n",
    "        ...\n",
    "\n",
    "class InMemoryUserRepository(UserRepository):\n",
    "    def store(user):\n",
    "        ...\n",
    "\n",
    "    def fetch(id):\n",
    "        ...\n",
    "\n",
    "# repo = UserRepository()\n",
    "repo = InMemoryUserRepository()"
   ]
  },
  {
   "cell_type": "markdown",
   "id": "3159fa3f-4718-4489-a24d-f5b4ff32ea24",
   "metadata": {},
   "source": [
    "Abstrakcyjne klasy bazowe w Pythonie mają znaczenie głównie w większych bazach kodu, gdzie nawigowanie grafu współpracujących obiektów jest dość trudne i przydaje się mechanizm opisujący na jakich abstrakcjach polegamy. Takie do tego podejście jest przykładem tzw. nominalnego podejścia do typowania - klasa jest uznawana za spełniającą określony interfejs wtedy, gdy eksplicite odziedziczy po klasie abstrakcyjnej (lub jej podklasie) mającej taki interfejs.\n",
    "\n",
    "Implementowanie wielu klas abstrakcyjnych, zwłaszcza, gdy ich interfejsy nie mają wspólnego przecięcia, jest również jednym z sensownych zastosowań wielodziedziczenia."
   ]
  },
  {
   "cell_type": "markdown",
   "id": "e3cb7e3f-ec90-43a3-b367-8b7fe5adf499",
   "metadata": {},
   "source": [
    "## Protocol - [PEP-544](https://www.python.org/dev/peps/pep-0544/)\n",
    "Z punktu widzenia statycznego typowania Pythona, nominalne typowanie - np.: przy użyciu `abc.ABC` pozwala na określenie naszych oczekiwań względem konkretnej implementacji interfejsu na którym chcemy polegać. Wtedy wiemy, że możemy bezpiecznie wywoływać metody lub odczytywać property przekazanego nam obiektu (oczywiście, jeśli uruchomimy analizator statyczny - np.: `mypy`), bez narażania się na błędy podczas wykonania kodu na produkcji.\n",
    "\n",
    "To podejście zaczyna jednak być bardzo uciążliwe, gdy mamy wiele współpracujących pakietów - łatwo wówczas np.: o cykle w importach. Dodatkowo, ten model myślenia o typach jest dość nieelastyczny i wymaga przestawienia myślenia na inne niż w przypadku dynamicznego typowania, w przypadku, gdy jesteśmy przyzwyczajeni do zapominania o typach w Pythonie. Duck-typing, z którego jest znany Python i który w rzeczywistości działa podczas wykonania kodu polega na obserwacji, że \"jeśli coś kwacze jak kaczka, chodzi jak kaczka to jest kaczką\". Inaczej mówiąc interesuje nas to, że dany obiekt ma określone zachowania i dane, nie zaś szczegóły tego, jak został zaimplementowany i czy jego twórca w ogóle wiedział o naszym przypadku użycia.\n",
    "\n",
    "W związku z tym problemem PEP-544 wprowadził do świata Pythona koncept `Protocols`, który umożliwia spełnianie relacji bycia podtypem, przez klasy, które nie definiują explicite, że dziedziczą po danym interfejsie, ale implementują jego metody i wymagane property:"
   ]
  },
  {
   "cell_type": "code",
   "execution_count": null,
   "id": "846d4e1b-ebca-42af-b904-3fbf73291b33",
   "metadata": {},
   "outputs": [],
   "source": [
    "from typing import Protocol\n",
    "\n",
    "# Protokół\n",
    "class SupportsClose(Protocol):\n",
    "    def close(self) -> None:\n",
    "        ...\n",
    "\n",
    "# Przykładowa implementacja - nie musi dziedziczyć po SupportsClose\n",
    "class Resource:\n",
    "    def __init__(self, f):\n",
    "        self.file = f\n",
    "\n",
    "    def close(self) -> None:\n",
    "        self.file.close()\n",
    "\n",
    "# ...ale może\n",
    "class Connection(SupportsClose):\n",
    "    def close():\n",
    "        print(\"closing connection\")\n",
    "        ...\n",
    "\n",
    "# Przykład użycia w sygnaturze typu\n",
    "def close_all(things: Iterable[SupportsClose]) -> None:\n",
    "    for t in things:\n",
    "        t.close()\n",
    "\n",
    "f = open('foo.txt')\n",
    "r = Resource(open(\"bar.txt\"))\n",
    "close_all([f, r])  # Oba OK!\n",
    "close_all([1])     # Error: 'int' has no 'close' method"
   ]
  },
  {
   "cell_type": "markdown",
   "id": "dada55da-4b1a-4195-ab4a-81abc82ddeb5",
   "metadata": {},
   "source": [
    "Protokoły mogą też definiować wymagane pola - jednak muszą być zgodne z [PEP-526](https://www.python.org/dev/peps/pep-0526):"
   ]
  },
  {
   "cell_type": "code",
   "execution_count": null,
   "id": "042b84bd-f955-45c3-87b4-1d56e3d071be",
   "metadata": {},
   "outputs": [],
   "source": [
    "from typing import Protocol, List\n",
    "\n",
    "class Template(Protocol):\n",
    "    name: str        # This is a protocol member\n",
    "    value: int = 0   # This one too (with default)\n",
    "\n",
    "    def method(self) -> None:\n",
    "        self.temp: List[int] = [] # Error in type checker\n",
    "\n",
    "class Concrete:\n",
    "    def __init__(self, name: str, value: int) -> None:\n",
    "        self.name = name\n",
    "        self.value = value\n",
    "\n",
    "    def method(self) -> None:\n",
    "        return\n",
    "\n",
    "var: Template = Concrete('value', 42)  # OK"
   ]
  },
  {
   "cell_type": "markdown",
   "id": "ab21e870-dbb6-4909-ba47-3e916d0f4fc5",
   "metadata": {},
   "source": [
    "Protokoły mogą rozszerzać się przez (wielo-)dziedziczenie, ale nie mogą dziedziczyć po klasach, które nie są protokołami:"
   ]
  },
  {
   "cell_type": "code",
   "execution_count": null,
   "id": "bfde8bd3-2ae6-40a3-a668-148e5364ff38",
   "metadata": {},
   "outputs": [],
   "source": [
    "from typing import Sized, Protocol\n",
    "\n",
    "class SizedAndClosable(Sized, Protocol):\n",
    "    def close(self) -> None:\n",
    "        ..."
   ]
  },
  {
   "cell_type": "markdown",
   "id": "b288de8e-8a3d-4b48-8e5e-c08d56214203",
   "metadata": {},
   "source": [
    "## Aliasy i nowe typy z już istniejących\n",
    "\n",
    "### Aliasy\n",
    "W celu uproszczenia długich i nieczytelnych anotacji typowych (np.: `Callable[[int, int], int]`) możemy wprowadzić alias typu:"
   ]
  },
  {
   "cell_type": "code",
   "execution_count": 7,
   "id": "c3fc3b1a-242f-4330-a37d-2b95bcb29d22",
   "metadata": {},
   "outputs": [],
   "source": [
    "from typing import Callable\n",
    "\n",
    "BinaryOp = Callable[[int, int], int]\n",
    "\n",
    "def calcWithoutAlias(arg1: int, arg2: int, op: Callable[[int, int], int]) -> int:\n",
    "    print(\"calculating...\")\n",
    "    return op(arg1, arg2)\n",
    "\n",
    "def calcWithAlias(arg1: int, arg2: int, op: BinaryOp) -> int: # nawet sama sygnatura niesie więcej informacji o intencjach autora\n",
    "    print(\"calculating...\")\n",
    "    return op(arg1, arg2)\n"
   ]
  },
  {
   "cell_type": "markdown",
   "id": "dded2784-2acf-4ee6-b809-462093a93bf2",
   "metadata": {},
   "source": [
    "W Pythonie 3.12 zmienia się sposób definiowania aliasów - należy użyć słowa kluczowego `type`:\n",
    "```\n",
    "type BinaryOp = Callable[[int, int], int]\n",
    "```\n",
    "\n",
    "### NewType\n",
    "Czasami chcemy wprowadzić typ, nazywający inny, już istniejący, ale w przeciwieństwie do aliasów nie chcemy pozwolić na traktowanie ich wymiennie. Wówczas należy posłużyć się konstrukcją `NewType`:"
   ]
  },
  {
   "cell_type": "code",
   "execution_count": 8,
   "id": "0bfab9db-202f-4fc0-879d-c97d1a43f355",
   "metadata": {},
   "outputs": [],
   "source": [
    "from typing import NewType\n",
    "\n",
    "UserId = NewType('UserId', int)\n",
    "some_id = UserId(524313)\n",
    "\n",
    "def get_user_name(user_id: UserId) -> str:\n",
    "    ...\n",
    "\n",
    "# działa, nie ma błędu w statycznych checkerach\n",
    "user_a = get_user_name(UserId(42351))\n",
    "\n",
    "# też działa, ale statyczne checkery zwracają błędy\n",
    "user_b = get_user_name(-1)"
   ]
  },
  {
   "cell_type": "markdown",
   "id": "2a31f4bf-38a0-4d1f-b23a-53556fb4e28c",
   "metadata": {},
   "source": [
    "ważne: tak stworzonych typów nie można używać jako klas bazowych!"
   ]
  },
  {
   "cell_type": "markdown",
   "id": "708aba15-0f93-416a-8b49-1346d9bbaeed",
   "metadata": {},
   "source": [
    "## Typy generyczne\n",
    "Czasami implementuje się algorytmy dzialajace na dowolnych sekwencjach, niezależnie od typów w nich przechowywanych:"
   ]
  },
  {
   "cell_type": "code",
   "execution_count": 10,
   "id": "f7a0a484-0d2f-4a6a-aa71-e52f4a1ff1e9",
   "metadata": {},
   "outputs": [],
   "source": [
    "from collections.abc import Sequence\n",
    "from typing import TypeVar\n",
    "\n",
    "T = TypeVar('T')\n",
    "\n",
    "def take(s: Sequence[T], num_elems: int):\n",
    "    return s[:num_elems]"
   ]
  },
  {
   "cell_type": "markdown",
   "id": "659a0d80-888c-4010-8d37-4b7a784e2e89",
   "metadata": {},
   "source": [
    "Większość kontenerów w Pythonie ma anotacje typowe parametryzowane jedną zmienną typową np.: `list[T]`. W przypadku, gdy zawierają jednak więcej typów, możemy skorzystać z unii: `list[int | str]` lub w ogóle dopuścić dowolny typ przy użyciu `Any`: `list[Any]`. Wyjątkami są `tuple`, które mogą być parametryzowane dowolną ilością zmiennych typowych, np.: `tuple[str, int, bool]`. Wynika to z częstego używania tupli jako sposobu na zwrócenie wielu wartości z funkcji, gdzie zazwyczaj wartości są różnych typów. Jeśli wiemy, że każdy element tupli jest tego samego typu możemy napisać `tuple[int, ...]`\n",
    "\n",
    "### Generyczne klasy\n",
    "Klasy definiowane przez użytkownika mogą również być parametryzowane zmiennymi typowymi, o ile wśród klas po których dziedzicą jest klasa `Generic`, która bierze dowolnie dużo różnych zmiennych typowych jako swoje parametry:"
   ]
  },
  {
   "cell_type": "code",
   "execution_count": 11,
   "id": "1d9b164e-d157-4141-ac86-1eb5aff529a5",
   "metadata": {},
   "outputs": [],
   "source": [
    "from typing import TypeVar, Generic\n",
    "from logging import Logger\n",
    "from collections.abc import Iterable\n",
    "\n",
    "T = TypeVar('T')\n",
    "\n",
    "class LoggedVar(Generic[T]):\n",
    "    def __init__(self, value: T, name: str, logger: Logger) -> None:\n",
    "        self.name = name\n",
    "        self.logger = logger\n",
    "        self.value = value\n",
    "\n",
    "    def set(self, new: T) -> None:\n",
    "        self.log('Set ' + repr(self.value))\n",
    "        self.value = new\n",
    "\n",
    "    def get(self) -> T:\n",
    "        self.log('Get ' + repr(self.value))\n",
    "        return self.value\n",
    "\n",
    "    def log(self, message: str) -> None:\n",
    "        self.logger.info('%s: %s', self.name, message)\n",
    "\n",
    "\n",
    "def zero_all_vars(vars: Iterable[LoggedVar[int]]) -> None:\n",
    "    for var in vars:\n",
    "        var.set(0)"
   ]
  },
  {
   "cell_type": "markdown",
   "id": "d2e1bd0b-d056-4085-a6b3-3796eaf18db6",
   "metadata": {},
   "source": [
    "### TypeVar\n",
    "Definiując zmienne typowe, posługujemy się klasą `TypeVar`, która umożliwia definiowanie ograniczeń na typy, które można w jej miejsce podstawiać:"
   ]
  },
  {
   "cell_type": "code",
   "execution_count": 13,
   "id": "83844c3e-6025-49ff-b4a3-c78e71b866c5",
   "metadata": {},
   "outputs": [],
   "source": [
    "from typing import TypeVar\n",
    "T = TypeVar('T')  # można podstawić dowolny typ\n",
    "S = TypeVar('S', bound=str)  # tylko podtypy str mogą być podstawiane za S\n",
    "A = TypeVar('A', str, bytes)  # tylko str albo bytes są akceptowane zamiast A"
   ]
  },
  {
   "cell_type": "markdown",
   "id": "0707bc83-92c7-46b3-bb28-5f63a7a2ad08",
   "metadata": {},
   "source": [
    "## Przykłady anotacji wspierających wykrywanie nietrywialnych błędów\n",
    "\n",
    "### @override - dostępne od Pythona 3.12\n",
    "Podobnie jak w Javie czy C# możemy oznaczyć metody przedefiniowywane w podklasach dekoratorem `@override`, by ułatwić statycznym checkerom wykrywanie błędów, gdy metoda nadklasy uległa zmianie, ale miejsca wywołania gdzie podstawiona jest podklasa nie. Nie jest to obowiązkowe, ale może pomóc:"
   ]
  },
  {
   "cell_type": "code",
   "execution_count": null,
   "id": "f8c023c5-86db-4c90-a3a6-cde513f09699",
   "metadata": {},
   "outputs": [],
   "source": [
    "from abc import ABC, abstractmethod\n",
    "from typing import override\n",
    "\n",
    "class Base(ABC):\n",
    "    @abstractmethod\n",
    "    def foo(self, x) -> None:\n",
    "        ...\n",
    "\n",
    "class Derived(Base):\n",
    "    @override\n",
    "    def foo(self) -> None:\n",
    "        print(\"derived\")"
   ]
  },
  {
   "cell_type": "markdown",
   "id": "71d28dd2-aced-4caf-bea0-c82bdb1cc867",
   "metadata": {},
   "source": [
    "### @final\n",
    "Ten dekorator można użyć zarówno na metodach jak i klasach. Użyte na metodzie uniemożliwia jej przedefiniowanie w podklasie. Użycie na klasie uniemożliwia dziedziczenie po niej:"
   ]
  },
  {
   "cell_type": "code",
   "execution_count": null,
   "id": "f8c1611f-f709-4ba8-90d8-dd9be31117b0",
   "metadata": {},
   "outputs": [],
   "source": [
    "class Base:\n",
    "    @final\n",
    "    def done(self) -> None:\n",
    "        ...\n",
    "class Sub(Base):\n",
    "    def done(self) -> None: # błąd podczas statycznej analizy\n",
    "        ...\n",
    "\n",
    "@final\n",
    "class Leaf:\n",
    "    ...\n",
    "class Other(Leaf): # błąd podczas statycznej analizy\n",
    "    ..."
   ]
  },
  {
   "cell_type": "markdown",
   "id": "e3990829-63e7-4609-8e91-e1d33287fc39",
   "metadata": {},
   "source": [
    "## Typeshed i pakiety types-*\n",
    "Historycznie Python nie miał typów, które można było analizować statycznie. Oczywiście wewnątrz interpretera podczas działania programu typy zawsze odgrywały taką samą rolę jak teraz, jednak ich wartość była znana tylko podczas wykonania. Ta zaszłość historyczna powoduje, że do dziś nie wszystkie moduły biblioteki standardowej czy też po prostu popularne biblioteki zostały przepisane tak, by wspierać anotacje typowe. To zaś powoduje, że statyczne analizatory takie jak `mypy` muszą same definiować sygnatury typów dla tych bibliotek. Służy do tego moduł `typeshed`, który można zainstalować pipem razem z `mypy`. Dodatkowo, niektóre biblioteki mają osobne pakiety w PyPI, które definiują ich typy - należy ich szukać po nazwach `types-{nazwa biblioteki}`. Po ich doinstalowaniu `mypy` nie powinien więcej zwracać ostrzeżeń czy błędów."
   ]
  }
 ],
 "metadata": {
  "kernelspec": {
   "display_name": "Python 3 (ipykernel)",
   "language": "python",
   "name": "python3"
  },
  "language_info": {
   "codemirror_mode": {
    "name": "ipython",
    "version": 3
   },
   "file_extension": ".py",
   "mimetype": "text/x-python",
   "name": "python",
   "nbconvert_exporter": "python",
   "pygments_lexer": "ipython3",
   "version": "3.11.4"
  }
 },
 "nbformat": 4,
 "nbformat_minor": 5
}
