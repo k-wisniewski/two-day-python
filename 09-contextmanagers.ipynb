{
 "cells": [
  {
   "cell_type": "markdown",
   "id": "10f79758",
   "metadata": {
    "pycharm": {
     "name": "#%% md\n"
    }
   },
   "source": [
    "## Managery kontekstu\n",
    "Czasami alokujemy zasoby, które wymagają zwolnienia lub używamy obiektów, wymagających inicjalizacji i deinicjalizacji. Aby zapewnić, że deinicjalizacja lub zwolnienie zawsze nastapi możemy napisać taki kod:\n",
    "```\n",
    "try:\n",
    "    obj = initialize()\n",
    "    do_something(obj)\n",
    "finally:\n",
    "    deinitialize(obj)\n",
    "```\n",
    "\n",
    "Jest on jednak mniej czytelny niż kod:\n",
    "```\n",
    "with initialize() as obj:\n",
    "    do_something(obj)\n",
    "```\n",
    "Gdzie zatem odbywa się deinicjalizacja? Cała tajemnica kryje się w konstrukcji `with ... as:`. W naszym przykładzie `initialize()` zwraca tzw. *manager kontekstu*, który zajmuje się zapewnieniem, by odpowiednia inicjalizacja i deinicjalizacja odbyły się odpowiednio na początku i na końcu bloku kodu, zawartego w konstrukcji `with...`. Czym jest ów `manager kontekstu`? Klasą implementującą następujący interfejs:\n",
    "```\n",
    "class FileOpener:\n",
    "    def __init__(self, name):\n",
    "        self.file_obj = open(file_name, method)\n",
    "    \n",
    "    def __enter__(self):\n",
    "        return self.file_obj\n",
    "    def __exit__(self, type, value, traceback):\n",
    "        self.file_obj.close()\n",
    "```\n",
    "Metoda `__exit__` zostanie uruchomiona nawet, gdy w bloku `with...` zostanie rzucony wyjątek. Managery konttekstu mogą przydać się do:\n",
    "- otwierania i zamykania plików\n",
    "- wykonywania operacji alokujących pamięć poza interpreterem pythona, np. w bilbliotekach zaimplementowanych w C\n",
    "- zakładania i zwalniania blokad\n",
    "- startowania i stopowania różnych procesów w tle\n",
    "- ...\n",
    "\n",
    "Przykładem zastosowania managera contextu jest też użycie go do sprawdzania czy funkcja rzuca wyjątek w dobrym momencie - np.:"
   ]
  },
  {
   "cell_type": "code",
   "execution_count": null,
   "id": "4d61212a",
   "metadata": {
    "pycharm": {
     "name": "#%%\n"
    }
   },
   "outputs": [],
   "source": [
    "def test_list_dir_returns_nothing_for_directory_with_no_files(tmp_dir_without_files):\n",
    "    list_dir = make_traverser(tmp_dir_without_files)\n",
    "    with pytest.raises(StopIteration):\n",
    "        next(list_dir())"
   ]
  },
  {
   "cell_type": "markdown",
   "id": "a166843f",
   "metadata": {
    "pycharm": {
     "name": "#%% md\n"
    }
   },
   "source": [
    "Aby uprościć pisanie managerów contekstu możemy też skorzystać z dekoratora `@contextlib.contextmanager`:"
   ]
  },
  {
   "cell_type": "code",
   "execution_count": null,
   "id": "6d7d5083-cc60-4099-bb25-9f35ab95bf05",
   "metadata": {},
   "outputs": [],
   "source": [
    "from contextlib import contextmanager\n",
    "from time import sleep\n",
    "\n",
    "@contextmanager\n",
    "def logger():\n",
    "    print(\"Starting...\")\n",
    "    try:\n",
    "        yield\n",
    "    finally:\n",
    "        print(\"... and done\")\n",
    "\n",
    "with logger():\n",
    "    print(\"doing something\")\n",
    "    sleep(3)"
   ]
  },
  {
   "cell_type": "markdown",
   "id": "3a68455f-3a08-49c5-bee7-490fae82f146",
   "metadata": {},
   "source": [
    "### *Zadanie*\n",
    "W pliku `context_managers.py` znajduje się kod, w którym należy uzupełnić brakujące managery kontekstu: `measure_transaction_perf` i `DatabaseTransaction`. Pierwszy z nich powinien mierzyć czas wykonania transakci bazodanowej, a drugi powinien umożliwiać jej bezpieczne rozpoczęcie i zakończenie. Jeśli podczas wykonywania operacji w transakcji zaszedł wyjątek, transakcja powinna zostać wycofana, w przeciwnym przypadku powinna zostać scommittowana do bazy. W `peewee` transakcje rozpoczyna się metodą `db.begin()`, wycofuje `db.rollback()` a committuje `db.commit()`."
   ]
  }
 ],
 "metadata": {
  "kernelspec": {
   "display_name": "Python 3 (ipykernel)",
   "language": "python",
   "name": "python3"
  },
  "language_info": {
   "codemirror_mode": {
    "name": "ipython",
    "version": 3
   },
   "file_extension": ".py",
   "mimetype": "text/x-python",
   "name": "python",
   "nbconvert_exporter": "python",
   "pygments_lexer": "ipython3",
   "version": "3.11.4"
  }
 },
 "nbformat": 4,
 "nbformat_minor": 5
}
