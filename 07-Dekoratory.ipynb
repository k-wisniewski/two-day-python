{
 "cells": [
  {
   "cell_type": "markdown",
   "id": "6c2a2b64",
   "metadata": {
    "pycharm": {
     "name": "#%% md\n"
    }
   },
   "source": [
    "## Dekoratory\n",
    "Dekoratory umożliwiaja dodawanie funkcjonalności do już istniejących funkcji bez modyfikacji ich treści. Dzięki temu można w łatwy sposób zenkapsulować wspólną, powtarzalną część funkcjonalności, tak by treść funkcji mogła skupić się na tym, co faktycznie jest celem jej istnienia. Np. do dekoratora można wynieść funkcjonalność logowania, mierzenia czasu wykonania etc. Podstawowa struktura dekoratorów wygląda tak:"
   ]
  },
  {
   "cell_type": "code",
   "execution_count": 4,
   "id": "1d98d6db",
   "metadata": {
    "pycharm": {
     "name": "#%%\n"
    }
   },
   "outputs": [
    {
     "name": "stdout",
     "output_type": "stream",
     "text": [
      "multiplier\n"
     ]
    }
   ],
   "source": [
    "def logger(f):\n",
    "    # print(a)\n",
    "    def with_logger(*args, **kwargs):\n",
    "        print(f\"running function {f.__name__}{args}\")\n",
    "        return f(*args, **kwargs)\n",
    "    return with_logger\n",
    "\n",
    "def metrics_collector(f):\n",
    "    # print(a)\n",
    "    def with_logger(*args, **kwargs):\n",
    "        print(f\"measuring function {f.__name__}{args}\")\n",
    "        return f(*args, **kwargs)\n",
    "    return with_logger\n",
    "\n",
    "\n",
    "@logger\n",
    "@metrics_collector\n",
    "def multiplier(a, b):\n",
    "    return a + b\n",
    "    \n",
    "\n",
    "multiplier(4,5)\n",
    "print(multiplier.__name__)"
   ]
  },
  {
   "cell_type": "markdown",
   "id": "0f4c4987",
   "metadata": {
    "pycharm": {
     "name": "#%% md\n"
    }
   },
   "source": [
    "Jak widać mimo, że wołaliśmy funkcję `multiplier` w rzeczywistości została ona \"opakowana funkcją `with_logger`, która dodała funkcjonlaność wypisywania na ekranie nazwy funkcji opakowywanej i jej argumentów. Jedyny problem polega na tym, że nazwa i docstring `multipliera` został zastąpiony przez `with_logger`. Aby temu zaradzić, można użyć dekoratora `wraps` z biblioteki `functools`:"
   ]
  },
  {
   "cell_type": "code",
   "execution_count": 8,
   "id": "060ea231",
   "metadata": {
    "pycharm": {
     "name": "#%%\n"
    }
   },
   "outputs": [
    {
     "name": "stdout",
     "output_type": "stream",
     "text": [
      "running function multiplier(4, 5)\n",
      "multiplier\n"
     ]
    }
   ],
   "source": [
    "import functools\n",
    "\n",
    "def logger(f):\n",
    "    @functools.wraps(f)\n",
    "    def with_logger(*args, **kwargs):\n",
    "        print(f\"running function {f.__name__}{args}\")\n",
    "        return f(*args, **kwargs)\n",
    "    return with_logger\n",
    "\n",
    "@logger\n",
    "def multiplier(a, b):\n",
    "    return a * b\n",
    "\n",
    "multiplier(4,5)\n",
    "print(multiplier.__name__)"
   ]
  },
  {
   "cell_type": "markdown",
   "id": "6558d89f",
   "metadata": {
    "pycharm": {
     "name": "#%% md\n"
    }
   },
   "source": [
    "### Dekoratory, które biorą parametry\n",
    "Aby dekoratory mogły być sparametryzowane, należy je po prostu opakować w jeszcze jedną funkcję, która przyjmie te parametry i zwróci dekorator, pamiętający w swoim domknięciu wartości z czasu wywowałania funkcji zewnętrznej:"
   ]
  },
  {
   "cell_type": "code",
   "execution_count": 3,
   "id": "5ab282d3-2d1c-400c-9eac-1dc37528a61d",
   "metadata": {},
   "outputs": [
    {
     "name": "stdout",
     "output_type": "stream",
     "text": [
      "[INFO]:running function multiplier(4, 5)\n"
     ]
    },
    {
     "data": {
      "text/plain": [
       "20"
      ]
     },
     "execution_count": 3,
     "metadata": {},
     "output_type": "execute_result"
    }
   ],
   "source": [
    "import functools\n",
    "\n",
    "def logger_with_level(level):\n",
    "    def logger(f):\n",
    "        @functools.wraps(f)\n",
    "        def with_logger(*args, **kwargs):\n",
    "            print(f\"[{level}]:running function {f.__name__}{args}\")\n",
    "            return f(*args, **kwargs)\n",
    "        return with_logger\n",
    "    return logger\n",
    "\n",
    "@logger_with_level(\"INFO\")\n",
    "def multiplier(a, b):\n",
    "    return a * b\n",
    "\n",
    "multiplier(4,5)"
   ]
  },
  {
   "cell_type": "markdown",
   "id": "54921141-2da9-4351-bdbb-1cf36dc3f2e9",
   "metadata": {},
   "source": [
    "### *Zadanie*\n",
    "Napisz dekorator, który służy do cache'owania wyników udekorowanych nim funkcji. Ilość zapamiętanych wyników powinna być konfigurowalna parametrem dekoratora, a w pierwszej kolejności powinny być usuwane najwcześniej obliczone: wyniki. Dekorator powinien umożliwiać dekorowanie wielu różnych funkcji bez obawy o pomieszanie wyników między nimi. Szkielet dekoratora wraz z testami jest dostępny w `examples/caching_decorator.py`\n",
    "\n",
    "### *Zadanie*\n",
    "Napisz dekorator, który zmierzy i wypisze na ekranie czas wywołania udekorowanej funkcji. Użyj `time.perf_counter` by uzyskać możliwie najlepszą dokładność. Przetestuj ten dekorator w połączeniu z dekoratorem z poprzedniego zadania tak, by zmierzyć o ile szybciej jest gdy sięgamy tylko do cache'a."
   ]
  }
 ],
 "metadata": {
  "kernelspec": {
   "display_name": "Python 3 (ipykernel)",
   "language": "python",
   "name": "python3"
  },
  "language_info": {
   "codemirror_mode": {
    "name": "ipython",
    "version": 3
   },
   "file_extension": ".py",
   "mimetype": "text/x-python",
   "name": "python",
   "nbconvert_exporter": "python",
   "pygments_lexer": "ipython3",
   "version": "3.11.4"
  }
 },
 "nbformat": 4,
 "nbformat_minor": 5
}
